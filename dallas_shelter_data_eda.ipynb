{
 "cells": [
  {
   "cell_type": "code",
   "execution_count": 161,
   "metadata": {},
   "outputs": [],
   "source": [
    "import pandas as pd\n",
    "import numpy as np\n",
    "import matplotlib.pyplot as plt\n",
    "import seaborn as sns\n",
    "pd.set_option('display.max_columns', None)\n",
    "pd.set_option(\"max_rows\", None)\n",
    "%matplotlib inline"
   ]
  },
  {
   "cell_type": "code",
   "execution_count": 162,
   "metadata": {},
   "outputs": [],
   "source": [
    "df = pd.read_csv('FY2020_Dallas_Animal_Shelter_Data.csv')"
   ]
  },
  {
   "cell_type": "code",
   "execution_count": 163,
   "metadata": {},
   "outputs": [
    {
     "data": {
      "text/html": [
       "<div>\n",
       "<style scoped>\n",
       "    .dataframe tbody tr th:only-of-type {\n",
       "        vertical-align: middle;\n",
       "    }\n",
       "\n",
       "    .dataframe tbody tr th {\n",
       "        vertical-align: top;\n",
       "    }\n",
       "\n",
       "    .dataframe thead th {\n",
       "        text-align: right;\n",
       "    }\n",
       "</style>\n",
       "<table border=\"1\" class=\"dataframe\">\n",
       "  <thead>\n",
       "    <tr style=\"text-align: right;\">\n",
       "      <th></th>\n",
       "      <th>Animal Id</th>\n",
       "      <th>Animal Type</th>\n",
       "      <th>Animal Breed</th>\n",
       "      <th>Kennel Number</th>\n",
       "      <th>Kennel Status</th>\n",
       "      <th>Tag Type</th>\n",
       "      <th>Activity Number</th>\n",
       "      <th>Activity Sequence</th>\n",
       "      <th>Source Id</th>\n",
       "      <th>Census Tract</th>\n",
       "      <th>Council District</th>\n",
       "      <th>Intake Type</th>\n",
       "      <th>Intake Subtype</th>\n",
       "      <th>Intake Total</th>\n",
       "      <th>Reason</th>\n",
       "      <th>Staff Id</th>\n",
       "      <th>Intake Date</th>\n",
       "      <th>Intake Time</th>\n",
       "      <th>Due Out</th>\n",
       "      <th>Intake Condition</th>\n",
       "      <th>Hold Request</th>\n",
       "      <th>Outcome Type</th>\n",
       "      <th>Outcome Subtype</th>\n",
       "      <th>Outcome Date</th>\n",
       "      <th>Outcome Time</th>\n",
       "      <th>Receipt Number</th>\n",
       "      <th>Impound Number</th>\n",
       "      <th>Service Request Number</th>\n",
       "      <th>Outcome Condition</th>\n",
       "      <th>Chip Status</th>\n",
       "      <th>Animal Origin</th>\n",
       "      <th>Additional Information</th>\n",
       "      <th>Month</th>\n",
       "      <th>Year</th>\n",
       "    </tr>\n",
       "  </thead>\n",
       "  <tbody>\n",
       "    <tr>\n",
       "      <th>0</th>\n",
       "      <td>A0144701</td>\n",
       "      <td>DOG</td>\n",
       "      <td>HAVANESE</td>\n",
       "      <td>VT 12</td>\n",
       "      <td>IMPOUNDED</td>\n",
       "      <td>NaN</td>\n",
       "      <td>NaN</td>\n",
       "      <td>1</td>\n",
       "      <td>P0098773</td>\n",
       "      <td>006301</td>\n",
       "      <td>4</td>\n",
       "      <td>OWNER SURRENDER</td>\n",
       "      <td>GENERAL</td>\n",
       "      <td>1</td>\n",
       "      <td>PERSNLISSU</td>\n",
       "      <td>CDM</td>\n",
       "      <td>11/08/2019</td>\n",
       "      <td>15:48:00</td>\n",
       "      <td>11/14/2019</td>\n",
       "      <td>APP SICK</td>\n",
       "      <td>NaN</td>\n",
       "      <td>RETURNED TO OWNER</td>\n",
       "      <td>WALK IN</td>\n",
       "      <td>11/09/2019</td>\n",
       "      <td>11:31:00</td>\n",
       "      <td>R19-558731</td>\n",
       "      <td>K19-486742</td>\n",
       "      <td>NaN</td>\n",
       "      <td>APP SICK</td>\n",
       "      <td>SCAN CHIP</td>\n",
       "      <td>OVER THE COUNTER</td>\n",
       "      <td>RETURNED TO OWNER</td>\n",
       "      <td>NOV.2019</td>\n",
       "      <td>FY2020</td>\n",
       "    </tr>\n",
       "    <tr>\n",
       "      <th>1</th>\n",
       "      <td>A0442587</td>\n",
       "      <td>DOG</td>\n",
       "      <td>TERRIER MIX</td>\n",
       "      <td>FREEZER</td>\n",
       "      <td>IMPOUNDED</td>\n",
       "      <td>NaN</td>\n",
       "      <td>NaN</td>\n",
       "      <td>1</td>\n",
       "      <td>P0492284</td>\n",
       "      <td>007102</td>\n",
       "      <td>2</td>\n",
       "      <td>OWNER SURRENDER</td>\n",
       "      <td>DEAD ON ARRIVAL</td>\n",
       "      <td>1</td>\n",
       "      <td>OTHRINTAKS</td>\n",
       "      <td>CDM</td>\n",
       "      <td>11/10/2019</td>\n",
       "      <td>14:18:00</td>\n",
       "      <td>11/10/2019</td>\n",
       "      <td>DEAD</td>\n",
       "      <td>NaN</td>\n",
       "      <td>DEAD ON ARRIVAL</td>\n",
       "      <td>DISPOSAL</td>\n",
       "      <td>11/10/2019</td>\n",
       "      <td>00:00:00</td>\n",
       "      <td>NaN</td>\n",
       "      <td>K19-486954</td>\n",
       "      <td>NaN</td>\n",
       "      <td>DEAD</td>\n",
       "      <td>SCAN CHIP</td>\n",
       "      <td>OVER THE COUNTER</td>\n",
       "      <td>NaN</td>\n",
       "      <td>NOV.2019</td>\n",
       "      <td>FY2020</td>\n",
       "    </tr>\n",
       "    <tr>\n",
       "      <th>2</th>\n",
       "      <td>A0458972</td>\n",
       "      <td>DOG</td>\n",
       "      <td>CATAHOULA</td>\n",
       "      <td>RECEIVING</td>\n",
       "      <td>UNAVAILABLE</td>\n",
       "      <td>NaN</td>\n",
       "      <td>A19-195601</td>\n",
       "      <td>1</td>\n",
       "      <td>P9991718</td>\n",
       "      <td>004600</td>\n",
       "      <td>1</td>\n",
       "      <td>STRAY</td>\n",
       "      <td>AT LARGE</td>\n",
       "      <td>1</td>\n",
       "      <td>OTHER</td>\n",
       "      <td>MG1718</td>\n",
       "      <td>10/03/2019</td>\n",
       "      <td>11:08:00</td>\n",
       "      <td>10/03/2019</td>\n",
       "      <td>TREATABLE REHABILITABLE NON-CONTAGIOUS</td>\n",
       "      <td>NaN</td>\n",
       "      <td>RETURNED TO OWNER</td>\n",
       "      <td>FIELD</td>\n",
       "      <td>10/03/2019</td>\n",
       "      <td>13:36:00</td>\n",
       "      <td>NaN</td>\n",
       "      <td>K19-482022</td>\n",
       "      <td>NaN</td>\n",
       "      <td>TREATABLE REHABILITABLE NON-CONTAGIOUS</td>\n",
       "      <td>SCAN NO CHIP</td>\n",
       "      <td>SWEEP</td>\n",
       "      <td>NaN</td>\n",
       "      <td>OCT.2019</td>\n",
       "      <td>FY2020</td>\n",
       "    </tr>\n",
       "    <tr>\n",
       "      <th>3</th>\n",
       "      <td>A0525642</td>\n",
       "      <td>DOG</td>\n",
       "      <td>GERM SHEPHERD</td>\n",
       "      <td>INJD 001</td>\n",
       "      <td>IMPOUNDED</td>\n",
       "      <td>NaN</td>\n",
       "      <td>A19-196573</td>\n",
       "      <td>1</td>\n",
       "      <td>P0903792</td>\n",
       "      <td>016605</td>\n",
       "      <td>8</td>\n",
       "      <td>OWNER SURRENDER</td>\n",
       "      <td>GENERAL</td>\n",
       "      <td>1</td>\n",
       "      <td>OTHER</td>\n",
       "      <td>RA 1549</td>\n",
       "      <td>10/11/2019</td>\n",
       "      <td>09:55:00</td>\n",
       "      <td>10/17/2019</td>\n",
       "      <td>TREATABLE REHABILITABLE NON-CONTAGIOUS</td>\n",
       "      <td>EMERGENCY RESCUE</td>\n",
       "      <td>TRANSFER</td>\n",
       "      <td>MEDICAL-CONTAGIOUS</td>\n",
       "      <td>10/15/2019</td>\n",
       "      <td>17:35:00</td>\n",
       "      <td>NaN</td>\n",
       "      <td>K19-483073</td>\n",
       "      <td>NaN</td>\n",
       "      <td>TREATABLE REHABILITABLE NON-CONTAGIOUS</td>\n",
       "      <td>SCAN CHIP</td>\n",
       "      <td>SWEEP</td>\n",
       "      <td>TAGGED</td>\n",
       "      <td>OCT.2019</td>\n",
       "      <td>FY2020</td>\n",
       "    </tr>\n",
       "    <tr>\n",
       "      <th>4</th>\n",
       "      <td>A0565586</td>\n",
       "      <td>DOG</td>\n",
       "      <td>SILKY TERRIER</td>\n",
       "      <td>LFD 119</td>\n",
       "      <td>UNAVAILABLE</td>\n",
       "      <td>NaN</td>\n",
       "      <td>NaN</td>\n",
       "      <td>1</td>\n",
       "      <td>P0890077</td>\n",
       "      <td>006900</td>\n",
       "      <td>1</td>\n",
       "      <td>STRAY</td>\n",
       "      <td>AT LARGE</td>\n",
       "      <td>1</td>\n",
       "      <td>OTHRINTAKS</td>\n",
       "      <td>JR</td>\n",
       "      <td>11/08/2019</td>\n",
       "      <td>11:55:00</td>\n",
       "      <td>11/14/2019</td>\n",
       "      <td>APP WNL</td>\n",
       "      <td>RESCU ONLY</td>\n",
       "      <td>RETURNED TO OWNER</td>\n",
       "      <td>WALK IN</td>\n",
       "      <td>11/09/2019</td>\n",
       "      <td>12:57:00</td>\n",
       "      <td>R19-558750</td>\n",
       "      <td>K19-486694</td>\n",
       "      <td>NaN</td>\n",
       "      <td>APP WNL</td>\n",
       "      <td>SCAN CHIP</td>\n",
       "      <td>OVER THE COUNTER</td>\n",
       "      <td>RETURNED TO OWNER</td>\n",
       "      <td>NOV.2019</td>\n",
       "      <td>FY2020</td>\n",
       "    </tr>\n",
       "  </tbody>\n",
       "</table>\n",
       "</div>"
      ],
      "text/plain": [
       "  Animal Id Animal Type   Animal Breed Kennel Number Kennel Status  Tag Type  \\\n",
       "0  A0144701         DOG       HAVANESE         VT 12     IMPOUNDED       NaN   \n",
       "1  A0442587         DOG    TERRIER MIX       FREEZER     IMPOUNDED       NaN   \n",
       "2  A0458972         DOG      CATAHOULA     RECEIVING   UNAVAILABLE       NaN   \n",
       "3  A0525642         DOG  GERM SHEPHERD      INJD 001     IMPOUNDED       NaN   \n",
       "4  A0565586         DOG  SILKY TERRIER       LFD 119   UNAVAILABLE       NaN   \n",
       "\n",
       "  Activity Number  Activity Sequence Source Id Census Tract Council District  \\\n",
       "0             NaN                  1  P0098773       006301                4   \n",
       "1             NaN                  1  P0492284       007102                2   \n",
       "2      A19-195601                  1  P9991718       004600                1   \n",
       "3      A19-196573                  1  P0903792       016605                8   \n",
       "4             NaN                  1  P0890077       006900                1   \n",
       "\n",
       "       Intake Type   Intake Subtype  Intake Total      Reason Staff Id  \\\n",
       "0  OWNER SURRENDER          GENERAL             1  PERSNLISSU      CDM   \n",
       "1  OWNER SURRENDER  DEAD ON ARRIVAL             1  OTHRINTAKS      CDM   \n",
       "2            STRAY         AT LARGE             1       OTHER   MG1718   \n",
       "3  OWNER SURRENDER          GENERAL             1       OTHER  RA 1549   \n",
       "4            STRAY         AT LARGE             1  OTHRINTAKS       JR   \n",
       "\n",
       "  Intake Date Intake Time     Due Out                        Intake Condition  \\\n",
       "0  11/08/2019    15:48:00  11/14/2019                                APP SICK   \n",
       "1  11/10/2019    14:18:00  11/10/2019                                    DEAD   \n",
       "2  10/03/2019    11:08:00  10/03/2019  TREATABLE REHABILITABLE NON-CONTAGIOUS   \n",
       "3  10/11/2019    09:55:00  10/17/2019  TREATABLE REHABILITABLE NON-CONTAGIOUS   \n",
       "4  11/08/2019    11:55:00  11/14/2019                                 APP WNL   \n",
       "\n",
       "       Hold Request       Outcome Type     Outcome Subtype Outcome Date  \\\n",
       "0               NaN  RETURNED TO OWNER             WALK IN   11/09/2019   \n",
       "1               NaN    DEAD ON ARRIVAL            DISPOSAL   11/10/2019   \n",
       "2               NaN  RETURNED TO OWNER               FIELD   10/03/2019   \n",
       "3  EMERGENCY RESCUE           TRANSFER  MEDICAL-CONTAGIOUS   10/15/2019   \n",
       "4        RESCU ONLY  RETURNED TO OWNER             WALK IN   11/09/2019   \n",
       "\n",
       "  Outcome Time Receipt Number Impound Number Service Request Number  \\\n",
       "0     11:31:00     R19-558731     K19-486742                    NaN   \n",
       "1     00:00:00            NaN     K19-486954                    NaN   \n",
       "2     13:36:00            NaN     K19-482022                    NaN   \n",
       "3     17:35:00            NaN     K19-483073                    NaN   \n",
       "4     12:57:00     R19-558750     K19-486694                    NaN   \n",
       "\n",
       "                        Outcome Condition   Chip Status     Animal Origin  \\\n",
       "0                                APP SICK     SCAN CHIP  OVER THE COUNTER   \n",
       "1                                    DEAD     SCAN CHIP  OVER THE COUNTER   \n",
       "2  TREATABLE REHABILITABLE NON-CONTAGIOUS  SCAN NO CHIP             SWEEP   \n",
       "3  TREATABLE REHABILITABLE NON-CONTAGIOUS     SCAN CHIP             SWEEP   \n",
       "4                                 APP WNL     SCAN CHIP  OVER THE COUNTER   \n",
       "\n",
       "  Additional Information     Month    Year  \n",
       "0      RETURNED TO OWNER  NOV.2019  FY2020  \n",
       "1                    NaN  NOV.2019  FY2020  \n",
       "2                    NaN  OCT.2019  FY2020  \n",
       "3                 TAGGED  OCT.2019  FY2020  \n",
       "4      RETURNED TO OWNER  NOV.2019  FY2020  "
      ]
     },
     "execution_count": 163,
     "metadata": {},
     "output_type": "execute_result"
    }
   ],
   "source": [
    "df.head()"
   ]
  },
  {
   "cell_type": "markdown",
   "metadata": {},
   "source": [
    "## Data Cleaning"
   ]
  },
  {
   "cell_type": "code",
   "execution_count": 164,
   "metadata": {},
   "outputs": [],
   "source": [
    "df.columns = map(str.lower, df.columns)"
   ]
  },
  {
   "cell_type": "code",
   "execution_count": 165,
   "metadata": {},
   "outputs": [],
   "source": [
    "df.columns = df.columns.str.replace(' ', '_')"
   ]
  },
  {
   "cell_type": "code",
   "execution_count": 166,
   "metadata": {},
   "outputs": [],
   "source": [
    "df = df.drop(['tag_type', 'activity_number', 'activity_sequence', 'source_id', 'census_tract', \n",
    "              'intake_total', 'receipt_number', 'impound_number', 'service_request_number', \n",
    "              'additional_information', 'council_district', 'hold_request', 'intake_time',\n",
    "              'outcome_time'], axis=1)\n"
   ]
  },
  {
   "cell_type": "code",
   "execution_count": 167,
   "metadata": {},
   "outputs": [],
   "source": [
    "# for the reason column, we want to combine both Other values and turn the NANS into Unknown\n",
    "df.reason = df.reason.apply(lambda x: x if (x == 'PERSNLISSU' or\n",
    "                                            x == 'MEDICAL' or \n",
    "                                            x == 'HOUSING' or\n",
    "                                            x == 'NOTRIGHTFT' or\n",
    "                                            x == 'FINANCIAL' or\n",
    "                                            x == 'OTHRINTAKS' or \n",
    "                                            x == 'OTHER')\n",
    "                            else 'UNKNOWN')"
   ]
  },
  {
   "cell_type": "code",
   "execution_count": 168,
   "metadata": {},
   "outputs": [],
   "source": [
    "df.outcome_condition = df.outcome_condition.fillna('UNKNOWN')"
   ]
  },
  {
   "cell_type": "code",
   "execution_count": 169,
   "metadata": {},
   "outputs": [],
   "source": [
    "df.chip_status = df.chip_status.fillna('UNKNOWN')"
   ]
  },
  {
   "cell_type": "code",
   "execution_count": 170,
   "metadata": {},
   "outputs": [],
   "source": [
    "df.animal_origin = df.animal_origin.fillna('UNKNOWN')"
   ]
  },
  {
   "cell_type": "code",
   "execution_count": 171,
   "metadata": {},
   "outputs": [],
   "source": [
    "df.dropna(subset = ['outcome_date'], inplace=True)"
   ]
  },
  {
   "cell_type": "code",
   "execution_count": 172,
   "metadata": {},
   "outputs": [],
   "source": [
    "df['intake_date'] = pd.to_datetime(df['intake_date'])\n",
    "df['due_out'] = pd.to_datetime(df['due_out'])\n",
    "df['outcome_date'] = pd.to_datetime(df['outcome_date'])"
   ]
  },
  {
   "cell_type": "code",
   "execution_count": 173,
   "metadata": {},
   "outputs": [
    {
     "name": "stdout",
     "output_type": "stream",
     "text": [
      "<class 'pandas.core.frame.DataFrame'>\n",
      "Int64Index: 31695 entries, 0 to 31917\n",
      "Data columns (total 20 columns):\n",
      " #   Column             Non-Null Count  Dtype         \n",
      "---  ------             --------------  -----         \n",
      " 0   animal_id          31695 non-null  object        \n",
      " 1   animal_type        31695 non-null  object        \n",
      " 2   animal_breed       31695 non-null  object        \n",
      " 3   kennel_number      31695 non-null  object        \n",
      " 4   kennel_status      31695 non-null  object        \n",
      " 5   intake_type        31695 non-null  object        \n",
      " 6   intake_subtype     31695 non-null  object        \n",
      " 7   reason             31695 non-null  object        \n",
      " 8   staff_id           31695 non-null  object        \n",
      " 9   intake_date        31695 non-null  datetime64[ns]\n",
      " 10  due_out            31695 non-null  datetime64[ns]\n",
      " 11  intake_condition   31695 non-null  object        \n",
      " 12  outcome_type       31695 non-null  object        \n",
      " 13  outcome_subtype    31695 non-null  object        \n",
      " 14  outcome_date       31695 non-null  datetime64[ns]\n",
      " 15  outcome_condition  31695 non-null  object        \n",
      " 16  chip_status        31695 non-null  object        \n",
      " 17  animal_origin      31695 non-null  object        \n",
      " 18  month              31695 non-null  object        \n",
      " 19  year               31695 non-null  object        \n",
      "dtypes: datetime64[ns](3), object(17)\n",
      "memory usage: 5.1+ MB\n"
     ]
    }
   ],
   "source": [
    "df.info()"
   ]
  },
  {
   "cell_type": "code",
   "execution_count": 174,
   "metadata": {},
   "outputs": [],
   "source": [
    "df['length_of_stay'] = df['outcome_date'] - df['intake_date']"
   ]
  },
  {
   "cell_type": "code",
   "execution_count": 175,
   "metadata": {},
   "outputs": [],
   "source": [
    "df['est_length_of_stay'] = df['due_out'] - df['intake_date']"
   ]
  },
  {
   "cell_type": "code",
   "execution_count": 176,
   "metadata": {},
   "outputs": [],
   "source": [
    "df['difference_in_stay'] = df['est_length_of_stay'] - df['length_of_stay']"
   ]
  },
  {
   "cell_type": "code",
   "execution_count": 177,
   "metadata": {},
   "outputs": [
    {
     "data": {
      "text/plain": [
       "0 days      10979\n",
       "1 days       4116\n",
       "2 days       2663\n",
       "4 days       2374\n",
       "6 days       1544\n",
       "3 days       1506\n",
       "5 days       1382\n",
       "7 days        849\n",
       "32 days       603\n",
       "31 days       545\n",
       "8 days        534\n",
       "10 days       488\n",
       "11 days       465\n",
       "9 days        430\n",
       "33 days       305\n",
       "12 days       298\n",
       "13 days       247\n",
       "14 days       213\n",
       "34 days       189\n",
       "15 days       182\n",
       "17 days       143\n",
       "16 days       141\n",
       "35 days       121\n",
       "19 days       103\n",
       "18 days        99\n",
       "36 days        89\n",
       "21 days        74\n",
       "37 days        72\n",
       "22 days        64\n",
       "20 days        62\n",
       "38 days        54\n",
       "24 days        48\n",
       "25 days        46\n",
       "27 days        46\n",
       "26 days        44\n",
       "23 days        42\n",
       "39 days        41\n",
       "29 days        41\n",
       "28 days        37\n",
       "30 days        34\n",
       "41 days        31\n",
       "40 days        24\n",
       "46 days        23\n",
       "45 days        21\n",
       "43 days        19\n",
       "44 days        19\n",
       "42 days        17\n",
       "48 days        16\n",
       "47 days        14\n",
       "50 days        13\n",
       "53 days        12\n",
       "52 days        10\n",
       "58 days        10\n",
       "51 days        10\n",
       "49 days        10\n",
       "55 days         9\n",
       "63 days         8\n",
       "57 days         7\n",
       "62 days         7\n",
       "61 days         6\n",
       "59 days         6\n",
       "66 days         6\n",
       "64 days         6\n",
       "54 days         6\n",
       "56 days         5\n",
       "60 days         5\n",
       "76 days         4\n",
       "112 days        3\n",
       "74 days         3\n",
       "73 days         3\n",
       "84 days         2\n",
       "69 days         2\n",
       "75 days         2\n",
       "88 days         2\n",
       "65 days         2\n",
       "109 days        2\n",
       "279 days        2\n",
       "134 days        2\n",
       "67 days         2\n",
       "310 days        1\n",
       "140 days        1\n",
       "222 days        1\n",
       "98 days         1\n",
       "101 days        1\n",
       "85 days         1\n",
       "72 days         1\n",
       "81 days         1\n",
       "154 days        1\n",
       "80 days         1\n",
       "68 days         1\n",
       "169 days        1\n",
       "71 days         1\n",
       "87 days         1\n",
       "100 days        1\n",
       "113 days        1\n",
       "156 days        1\n",
       "77 days         1\n",
       "90 days         1\n",
       "119 days        1\n",
       "216 days        1\n",
       "231 days        1\n",
       "70 days         1\n",
       "122 days        1\n",
       "249 days        1\n",
       "94 days         1\n",
       "86 days         1\n",
       "91 days         1\n",
       "89 days         1\n",
       "78 days         1\n",
       "148 days        1\n",
       "Name: length_of_stay, dtype: int64"
      ]
     },
     "execution_count": 177,
     "metadata": {},
     "output_type": "execute_result"
    }
   ],
   "source": [
    "df.length_of_stay.value_counts()"
   ]
  },
  {
   "cell_type": "code",
   "execution_count": null,
   "metadata": {},
   "outputs": [],
   "source": []
  },
  {
   "cell_type": "code",
   "execution_count": null,
   "metadata": {},
   "outputs": [],
   "source": []
  },
  {
   "cell_type": "code",
   "execution_count": 178,
   "metadata": {},
   "outputs": [],
   "source": [
    "#Remove obvious outliers\n",
    "df = df.loc[df['length_of_stay'] < \"60 days\"]"
   ]
  },
  {
   "cell_type": "code",
   "execution_count": 179,
   "metadata": {},
   "outputs": [
    {
     "name": "stdout",
     "output_type": "stream",
     "text": [
      "The lower quartile of Length of Stay is: 0.0\n",
      "The upper quartile of Length of Stay is: 6.0\n",
      "The interquartile range of Length of Stay is: 6.0\n",
      "The the median of Length of Stay is: 2.0 \n",
      "Values above 15.0 could be outliers.\n"
     ]
    }
   ],
   "source": [
    "#Find potential outliers using IQR.\n",
    "quartiles = df['length_of_stay'].quantile([.25,.5,.75])\n",
    "\n",
    "#Use numpy timedelta to convert seconds to days.\n",
    "lowerq = quartiles[0.25] / np.timedelta64(1, 'D')\n",
    "upperq = quartiles[0.75] / np.timedelta64(1, 'D')\n",
    "iqr = upperq-lowerq\n",
    "\n",
    "print(f\"The lower quartile of Length of Stay is: {lowerq}\")\n",
    "print(f\"The upper quartile of Length of Stay is: {upperq}\")\n",
    "print(f\"The interquartile range of Length of Stay is: {iqr}\")\n",
    "print(f\"The the median of Length of Stay is: {quartiles[0.5] / np.timedelta64(1, 'D')} \")\n",
    "\n",
    "upper_bound = upperq + (1.5*iqr)\n",
    "print(f\"Values above {upper_bound} could be outliers.\")"
   ]
  },
  {
   "cell_type": "markdown",
   "metadata": {},
   "source": [
    "APP WNL                                   18128\n",
    "TREATABLE REHABILITABLE NON-CONTAGIOUS     3106\n",
    "APP SICK                                   1520\n",
    "APP INJ                                    1271\n",
    "UNKNOWN                                    1146\n",
    "UNDERAGE                                    876\n",
    "CRITICAL                                    328\n",
    "HEALTHY                                     111\n",
    "UNHEALTHY UNTREATABLE NON-CONTAGIOUS         95\n",
    "TREATABLE MANAGEABLE NON-CONTAGIOUS          75\n",
    "TREATABLE REHABILITABLE CONTAGIOUS           32\n",
    "DECEASED                                     28\n",
    "FATAL                                        17\n",
    "TREATABLE MANAGEABLE CONTAGIOUS               5\n",
    "DEAD                                          4\n",
    "UNHEALTHY UNTREATABLE CONTAGIOUS              2"
   ]
  },
  {
   "cell_type": "code",
   "execution_count": 180,
   "metadata": {},
   "outputs": [
    {
     "ename": "SyntaxError",
     "evalue": "invalid syntax (<ipython-input-180-4f5180c650f6>, line 9)",
     "output_type": "error",
     "traceback": [
      "\u001b[0;36m  File \u001b[0;32m\"<ipython-input-180-4f5180c650f6>\"\u001b[0;36m, line \u001b[0;32m9\u001b[0m\n\u001b[0;31m    APP SICK\u001b[0m\n\u001b[0m           ^\u001b[0m\n\u001b[0;31mSyntaxError\u001b[0m\u001b[0;31m:\u001b[0m invalid syntax\n"
     ]
    }
   ],
   "source": [
    "#clean intakes\n",
    "\n",
    "Healthy\n",
    "df.loc[df['intake_condition'].str.contains('HEALTHY'), 'intake_condition'] = 'HEALTHY'\n",
    "df.loc[df['intake_condition'].str.contains('WNL'), 'intake_condition'] = 'HEALTHY'\n",
    "df.loc[df['Intake Condition'].str.contains('NORMAL'), 'Intake Condition'] = 'HEALTHY'\n",
    "\n",
    "Sick\n",
    "APP SICK\n",
    "APP INJ\n",
    "UNHEALTHY UNTREATABLE NON-CONTAGIOUS\n",
    "\n",
    "Treatable\n",
    "df.loc[df['Intake Condition'].str.contains('MANAGEABLE NON-CONTAGIOUS'), 'Intake Condition'] = 'MANAGEABLE NON-CONTAGIOUS'\n",
    "TREATABLE REHABILITABLE NON-CONTAGIOUS\n",
    "\n",
    "Contagious\n",
    "Critical\n",
    "\n",
    "df.loc[df['Intake Condition'].str.contains('REHABILITABLE NON-CONTAGIOUS'), 'Intake Condition'] = 'REHABILITABLE NON-CONTAGIOUS'\n",
    "cleaner_df.loc[cleaner_df['Intake Condition'].str.contains(' CONTAGIOUS'), 'Intake Condition'] = 'CONTAGIOUS'\n",
    "\n",
    "\n",
    "CRITICAL/UNDERAGE\n",
    "UNHEALTHY UNTREATABLE NON-CONTAGIOUS\n",
    "UNKNOWN\n",
    "\n",
    "Passed\n",
    "DECEASED\n",
    "FATAL  \n",
    "DEAD\n",
    "\n",
    "\n",
    "\n",
    "\n",
    "cleaner_df.loc[cleaner_df['Intake Condition'].str.contains('UNTREATABLE NON-CONTAGIOUS'), 'Intake Condition'] = 'UNTREATABLE NON-CONTAGIOUS'\n",
    "\n",
    "#Create list and only include values found in list\n",
    "intakes = ['REHABILITABLE NON-CONTAGIOUS', 'HEALTHY', 'MANAGEABLE NON-CONTAGIOUS',\n",
    "           'UNTREATABLE NON-CONTAGIOUS', 'CONTAGIOUS']\n",
    "cleaner_df = cleaner_df[cleaner_df['Intake Condition'].isin(intakes)]\n",
    "cleaner_df['Intake Condition'].value_counts()"
   ]
  },
  {
   "cell_type": "code",
   "execution_count": null,
   "metadata": {},
   "outputs": [],
   "source": []
  },
  {
   "cell_type": "code",
   "execution_count": 181,
   "metadata": {},
   "outputs": [
    {
     "data": {
      "text/plain": [
       "ADOPTION             10072\n",
       "TRANSFER              7825\n",
       "RETURNED TO OWNER     6509\n",
       "EUTHANIZED            2357\n",
       "Name: outcome_type, dtype: int64"
      ]
     },
     "execution_count": 181,
     "metadata": {},
     "output_type": "execute_result"
    }
   ],
   "source": [
    "#Clean outcome types\n",
    "\n",
    "df.loc[df['outcome_type'].str.contains('FOSTER'), 'outcome_type'] = 'TRANSFER'\n",
    "outcomes = ['ADOPTION', 'RETURNED TO OWNER', 'TRANSFER','EUTHANIZED']\n",
    "df = df[df['outcome_type'].isin(outcomes)]\n",
    "df['outcome_type'].value_counts()"
   ]
  },
  {
   "cell_type": "code",
   "execution_count": null,
   "metadata": {},
   "outputs": [],
   "source": []
  },
  {
   "cell_type": "code",
   "execution_count": 182,
   "metadata": {},
   "outputs": [
    {
     "data": {
      "text/plain": [
       "NO CHIP           15380\n",
       "CHIP               8681\n",
       "UNABLE TO SCAN     2702\n",
       "Name: chip_status, dtype: int64"
      ]
     },
     "execution_count": 182,
     "metadata": {},
     "output_type": "execute_result"
    }
   ],
   "source": [
    "#Clean chip status\n",
    "df.loc[df['chip_status'].str.contains('SCAN NO CHIP'), 'chip_status'] = 'NO CHIP'\n",
    "df.loc[df['chip_status'].str.contains('SCAN CHIP'), 'chip_status'] = 'CHIP'\n",
    "df.loc[df['chip_status'].str.contains('UN'), 'chip_status'] = 'UNABLE TO SCAN'\n",
    "df['chip_status'].value_counts()"
   ]
  },
  {
   "cell_type": "code",
   "execution_count": null,
   "metadata": {},
   "outputs": [],
   "source": []
  },
  {
   "cell_type": "code",
   "execution_count": 183,
   "metadata": {},
   "outputs": [
    {
     "data": {
      "text/plain": [
       "FIELD               15221\n",
       "OVER THE COUNTER    11523\n",
       "Name: animal_origin, dtype: int64"
      ]
     },
     "execution_count": 183,
     "metadata": {},
     "output_type": "execute_result"
    }
   ],
   "source": [
    "#clean origins\n",
    "\n",
    "df.loc[df['animal_origin'].str.contains('SWEEP'), 'animal_origin'] = 'FIELD'\n",
    "df.loc[df['animal_origin'].str.contains('OPS'), 'animal_origin'] = 'FIELD'\n",
    "df.loc[df['animal_origin'].str.contains('CARE'), 'animal_origin'] = 'OVER THE COUNTER'\n",
    "df.loc[df['animal_origin'].str.contains('NIGHT DROP'), 'animal_origin'] = 'OVER THE COUNTER'\n",
    "\n",
    "origins = ['FIELD', 'OVER THE COUNTER']\n",
    "df = df[df['animal_origin'].isin(origins)]\n",
    "df['animal_origin'].value_counts()"
   ]
  },
  {
   "cell_type": "code",
   "execution_count": 184,
   "metadata": {},
   "outputs": [],
   "source": [
    "dog_df = df.loc[df['animal_type'] == \"DOG\"]\n",
    "cat_df = df.loc[df['animal_type'] == \"CAT\"]"
   ]
  },
  {
   "cell_type": "code",
   "execution_count": 185,
   "metadata": {},
   "outputs": [
    {
     "name": "stdout",
     "output_type": "stream",
     "text": [
      "<class 'pandas.core.frame.DataFrame'>\n",
      "Int64Index: 18890 entries, 0 to 31917\n",
      "Data columns (total 23 columns):\n",
      " #   Column              Non-Null Count  Dtype          \n",
      "---  ------              --------------  -----          \n",
      " 0   animal_id           18890 non-null  object         \n",
      " 1   animal_type         18890 non-null  object         \n",
      " 2   animal_breed        18890 non-null  object         \n",
      " 3   kennel_number       18890 non-null  object         \n",
      " 4   kennel_status       18890 non-null  object         \n",
      " 5   intake_type         18890 non-null  object         \n",
      " 6   intake_subtype      18890 non-null  object         \n",
      " 7   reason              18890 non-null  object         \n",
      " 8   staff_id            18890 non-null  object         \n",
      " 9   intake_date         18890 non-null  datetime64[ns] \n",
      " 10  due_out             18890 non-null  datetime64[ns] \n",
      " 11  intake_condition    18890 non-null  object         \n",
      " 12  outcome_type        18890 non-null  object         \n",
      " 13  outcome_subtype     18890 non-null  object         \n",
      " 14  outcome_date        18890 non-null  datetime64[ns] \n",
      " 15  outcome_condition   18890 non-null  object         \n",
      " 16  chip_status         18890 non-null  object         \n",
      " 17  animal_origin       18890 non-null  object         \n",
      " 18  month               18890 non-null  object         \n",
      " 19  year                18890 non-null  object         \n",
      " 20  length_of_stay      18890 non-null  timedelta64[ns]\n",
      " 21  est_length_of_stay  18890 non-null  timedelta64[ns]\n",
      " 22  difference_in_stay  18890 non-null  timedelta64[ns]\n",
      "dtypes: datetime64[ns](3), object(17), timedelta64[ns](3)\n",
      "memory usage: 3.5+ MB\n"
     ]
    }
   ],
   "source": [
    "dog_df.info()"
   ]
  },
  {
   "cell_type": "code",
   "execution_count": 186,
   "metadata": {},
   "outputs": [
    {
     "name": "stdout",
     "output_type": "stream",
     "text": [
      "<class 'pandas.core.frame.DataFrame'>\n",
      "Int64Index: 7058 entries, 14 to 31913\n",
      "Data columns (total 23 columns):\n",
      " #   Column              Non-Null Count  Dtype          \n",
      "---  ------              --------------  -----          \n",
      " 0   animal_id           7058 non-null   object         \n",
      " 1   animal_type         7058 non-null   object         \n",
      " 2   animal_breed        7058 non-null   object         \n",
      " 3   kennel_number       7058 non-null   object         \n",
      " 4   kennel_status       7058 non-null   object         \n",
      " 5   intake_type         7058 non-null   object         \n",
      " 6   intake_subtype      7058 non-null   object         \n",
      " 7   reason              7058 non-null   object         \n",
      " 8   staff_id            7058 non-null   object         \n",
      " 9   intake_date         7058 non-null   datetime64[ns] \n",
      " 10  due_out             7058 non-null   datetime64[ns] \n",
      " 11  intake_condition    7058 non-null   object         \n",
      " 12  outcome_type        7058 non-null   object         \n",
      " 13  outcome_subtype     7058 non-null   object         \n",
      " 14  outcome_date        7058 non-null   datetime64[ns] \n",
      " 15  outcome_condition   7058 non-null   object         \n",
      " 16  chip_status         7058 non-null   object         \n",
      " 17  animal_origin       7058 non-null   object         \n",
      " 18  month               7058 non-null   object         \n",
      " 19  year                7058 non-null   object         \n",
      " 20  length_of_stay      7058 non-null   timedelta64[ns]\n",
      " 21  est_length_of_stay  7058 non-null   timedelta64[ns]\n",
      " 22  difference_in_stay  7058 non-null   timedelta64[ns]\n",
      "dtypes: datetime64[ns](3), object(17), timedelta64[ns](3)\n",
      "memory usage: 1.3+ MB\n"
     ]
    }
   ],
   "source": [
    "cat_df.info()"
   ]
  },
  {
   "cell_type": "code",
   "execution_count": 227,
   "metadata": {},
   "outputs": [
    {
     "name": "stdout",
     "output_type": "stream",
     "text": [
      "<class 'pandas.core.frame.DataFrame'>\n",
      "Int64Index: 18890 entries, 0 to 31917\n",
      "Data columns (total 23 columns):\n",
      " #   Column              Non-Null Count  Dtype          \n",
      "---  ------              --------------  -----          \n",
      " 0   animal_id           18890 non-null  object         \n",
      " 1   animal_type         18890 non-null  object         \n",
      " 2   animal_breed        18890 non-null  object         \n",
      " 3   kennel_number       18890 non-null  object         \n",
      " 4   kennel_status       18890 non-null  object         \n",
      " 5   intake_type         18890 non-null  object         \n",
      " 6   intake_subtype      18890 non-null  object         \n",
      " 7   reason              18890 non-null  object         \n",
      " 8   staff_id            18890 non-null  object         \n",
      " 9   intake_date         18890 non-null  datetime64[ns] \n",
      " 10  due_out             18890 non-null  datetime64[ns] \n",
      " 11  intake_condition    18890 non-null  object         \n",
      " 12  outcome_type        18890 non-null  object         \n",
      " 13  outcome_subtype     18890 non-null  object         \n",
      " 14  outcome_date        18890 non-null  datetime64[ns] \n",
      " 15  outcome_condition   18890 non-null  object         \n",
      " 16  chip_status         18890 non-null  object         \n",
      " 17  animal_origin       18890 non-null  object         \n",
      " 18  month               18890 non-null  object         \n",
      " 19  year                18890 non-null  object         \n",
      " 20  length_of_stay      18890 non-null  timedelta64[ns]\n",
      " 21  est_length_of_stay  18890 non-null  timedelta64[ns]\n",
      " 22  difference_in_stay  18890 non-null  timedelta64[ns]\n",
      "dtypes: datetime64[ns](3), object(17), timedelta64[ns](3)\n",
      "memory usage: 3.5+ MB\n"
     ]
    }
   ],
   "source": [
    "dog_df.info()"
   ]
  },
  {
   "cell_type": "code",
   "execution_count": 228,
   "metadata": {},
   "outputs": [
    {
     "data": {
      "text/plain": [
       "NO CHIP           10022\n",
       "CHIP               7301\n",
       "UNABLE TO SCAN     1567\n",
       "Name: chip_status, dtype: int64"
      ]
     },
     "execution_count": 228,
     "metadata": {},
     "output_type": "execute_result"
    }
   ],
   "source": [
    "dog_df.chip_status.value_counts()"
   ]
  },
  {
   "cell_type": "markdown",
   "metadata": {},
   "source": [
    "## EDA"
   ]
  },
  {
   "cell_type": "code",
   "execution_count": 187,
   "metadata": {},
   "outputs": [
    {
     "data": {
      "text/plain": [
       "ADOPTION             10072\n",
       "TRANSFER              7824\n",
       "RETURNED TO OWNER     6495\n",
       "EUTHANIZED            2353\n",
       "Name: outcome_type, dtype: int64"
      ]
     },
     "execution_count": 187,
     "metadata": {},
     "output_type": "execute_result"
    }
   ],
   "source": [
    "df.outcome_type.value_counts()"
   ]
  },
  {
   "cell_type": "code",
   "execution_count": 188,
   "metadata": {},
   "outputs": [
    {
     "data": {
      "text/plain": [
       "ADOPTION             7371\n",
       "RETURNED TO OWNER    6325\n",
       "TRANSFER             4053\n",
       "EUTHANIZED           1141\n",
       "Name: outcome_type, dtype: int64"
      ]
     },
     "execution_count": 188,
     "metadata": {},
     "output_type": "execute_result"
    }
   ],
   "source": [
    "dog_df.outcome_type.value_counts()"
   ]
  },
  {
   "cell_type": "code",
   "execution_count": 189,
   "metadata": {},
   "outputs": [
    {
     "data": {
      "image/png": "[encoded data removed]",
      "text/plain": [
       "<Figure size 1440x1440 with 1 Axes>"
      ]
     },
     "metadata": {
      "needs_background": "light"
     },
     "output_type": "display_data"
    }
   ],
   "source": [
    "sns.displot(dog_df, x='outcome_type', height=20);"
   ]
  },
  {
   "cell_type": "code",
   "execution_count": 190,
   "metadata": {},
   "outputs": [
    {
     "data": {
      "text/plain": [
       "UNAVAILABLE                 10950\n",
       "IMPOUNDED                    5106\n",
       "AVAILABLE                    1576\n",
       "LAB                           761\n",
       "RELEASED FROM QUARANTINE      326\n",
       "EU RISK                       147\n",
       "PRE-LAB                        14\n",
       "PENDING                         9\n",
       "EVALUATION                      1\n",
       "Name: kennel_status, dtype: int64"
      ]
     },
     "execution_count": 190,
     "metadata": {},
     "output_type": "execute_result"
    }
   ],
   "source": [
    "dog_df.kennel_status.value_counts()"
   ]
  },
  {
   "cell_type": "code",
   "execution_count": 191,
   "metadata": {},
   "outputs": [
    {
     "data": {
      "text/plain": [
       "UNAVAILABLE                 3868\n",
       "AVAILABLE                   1817\n",
       "IMPOUNDED                   1048\n",
       "LAB                          129\n",
       "PENDING                      110\n",
       "EU RISK                       57\n",
       "RELEASED FROM QUARANTINE      29\n",
       "Name: kennel_status, dtype: int64"
      ]
     },
     "execution_count": 191,
     "metadata": {},
     "output_type": "execute_result"
    }
   ],
   "source": [
    "cat_df.kennel_status.value_counts()"
   ]
  },
  {
   "cell_type": "code",
   "execution_count": 192,
   "metadata": {},
   "outputs": [
    {
     "data": {
      "text/plain": [
       "TRANSFER             3641\n",
       "ADOPTION             2586\n",
       "EUTHANIZED            678\n",
       "RETURNED TO OWNER     153\n",
       "Name: outcome_type, dtype: int64"
      ]
     },
     "execution_count": 192,
     "metadata": {},
     "output_type": "execute_result"
    }
   ],
   "source": [
    "cat_df.outcome_type.value_counts()"
   ]
  },
  {
   "cell_type": "code",
   "execution_count": 193,
   "metadata": {},
   "outputs": [
    {
     "data": {
      "text/plain": [
       "DOG          18890\n",
       "CAT           7058\n",
       "WILDLIFE       696\n",
       "BIRD            88\n",
       "LIVESTOCK       12\n",
       "Name: animal_type, dtype: int64"
      ]
     },
     "execution_count": 193,
     "metadata": {},
     "output_type": "execute_result"
    }
   ],
   "source": [
    "df.animal_type.value_counts()"
   ]
  },
  {
   "cell_type": "markdown",
   "metadata": {},
   "source": [
    "https://askwonder.com/research/provide-list-kpis-animal-services-departments-within-municipalities-9yyy09551\n",
    "\n",
    "1. visualize ALL animal types - but for real, dogs and cats \n",
    "\n",
    "2. visualize dog breeds and cat breeds - this is still fun\n",
    "\n",
    "but what are our KPI benchmarks?\n",
    "\n",
    "segmented by dog and cat \n",
    "\n",
    "3. Percentage of animals adopted or returned to owner (higher is better—fewer animals euthanized or died) \n",
    "\n",
    "33. Number of animals adopted \n",
    "34. Number of animals redeemed by owner\n",
    "39. Number of transfers/fosters \n",
    "41. Adoption rates \n",
    "43. Return to owner rates \n",
    "\n",
    "- visualize by dog and cat adoption and returned \n",
    "- need a status (adopted or returned) outcome type\n",
    "- need to calculate % groupby animal type and status and divide by ALL animals regardless of status type\n",
    "- use a pie chart and  \n",
    "\n",
    "i want to create a visualization that captures the percentage of animals adopted or return segmented by cats and dogs \n",
    "\n",
    "4. 32. Number of animals euthanized AND Percentage of animals not euthanized (lower is better) \n",
    "\n",
    "40. Euthanasia rates \n",
    "- need all animal outcomes \n",
    "- need a status \n",
    "- segment by dog and cat\n",
    "\n",
    "5. Live release rate (higher is better) \n",
    "\n",
    "- need all animal outcomes \n",
    "- segment by dog and cat \n",
    "29. Live/Save rate (the number of live releases divided by the number of live impounds)\n",
    "35. Number of animals died in shelter \n",
    "\n",
    "6. Percentage increase in number of dogs or cats? microchipped \n",
    "\n",
    "- segment by dogs only get number of chips vs no chips\n",
    "\n",
    "12. Percentage increase in number of dogs and cats returned to owners\n",
    "\n",
    "- segment by dog and cat\n",
    "- grab outcomes \n",
    "\n",
    "28. Number of impounds \n",
    "\n",
    "- by dog\n",
    "- by cat \n",
    "- by animal \n",
    "\n",
    "\n",
    "\n",
    "\n"
   ]
  },
  {
   "cell_type": "markdown",
   "metadata": {},
   "source": [
    "# kpi's\n",
    "\n",
    "1. Number of impounds \n",
    "- show displot for overall, then dog, then cat\n",
    "- provide numbers\n",
    "\n",
    "2. Live release rate (higher is better) \n",
    "- show displot for overall, then dog, then cat\n",
    "- provide numbers\n",
    "\n",
    "3. Percentage of animals adopted or returned to owner (higher is better—fewer animals euthanized or died)\n",
    "- show displot for overall, then dog, then cat \n",
    "- provide numbers\n",
    "\n",
    "4. Number of animals euthanized AND Percentage of animals not euthanized (lower is better) \n",
    "- show displot for overall, then dog, then cat\n",
    "- provide numbers\n",
    "\n",
    "5. Percentage of number of dogs or cats? microchipped \n",
    "- show displot for dog, then cat\n",
    "- provide numbers "
   ]
  },
  {
   "cell_type": "markdown",
   "metadata": {},
   "source": [
    "#### visualize ALL animal types - but for real, dogs and cats "
   ]
  },
  {
   "cell_type": "code",
   "execution_count": 194,
   "metadata": {},
   "outputs": [
    {
     "data": {
      "text/plain": [
       "<seaborn.axisgrid.FacetGrid at 0x7fe31a077e90>"
      ]
     },
     "execution_count": 194,
     "metadata": {},
     "output_type": "execute_result"
    },
    {
     "data": {
      "image/png": "[encoded data removed]",
      "text/plain": [
       "<Figure size 720x720 with 1 Axes>"
      ]
     },
     "metadata": {
      "needs_background": "light"
     },
     "output_type": "display_data"
    }
   ],
   "source": [
    "sns.displot(df, x='animal_type', height=10)"
   ]
  },
  {
   "cell_type": "code",
   "execution_count": 195,
   "metadata": {},
   "outputs": [
    {
     "data": {
      "text/plain": [
       "<seaborn.axisgrid.FacetGrid at 0x7fe3168f4710>"
      ]
     },
     "execution_count": 195,
     "metadata": {},
     "output_type": "execute_result"
    },
    {
     "data": {
      "image/png": "[encoded data removed]",
      "text/plain": [
       "<Figure size 720x720 with 1 Axes>"
      ]
     },
     "metadata": {
      "needs_background": "light"
     },
     "output_type": "display_data"
    }
   ],
   "source": [
    "sns.displot(dog_df, x='animal_breed', height=10)"
   ]
  },
  {
   "cell_type": "code",
   "execution_count": 196,
   "metadata": {},
   "outputs": [
    {
     "name": "stderr",
     "output_type": "stream",
     "text": [
      "/opt/anaconda3/lib/python3.7/site-packages/pandas/core/indexing.py:966: SettingWithCopyWarning: \n",
      "A value is trying to be set on a copy of a slice from a DataFrame.\n",
      "Try using .loc[row_indexer,col_indexer] = value instead\n",
      "\n",
      "See the caveats in the documentation: https://pandas.pydata.org/pandas-docs/stable/user_guide/indexing.html#returning-a-view-versus-a-copy\n",
      "  self.obj[item] = s\n"
     ]
    }
   ],
   "source": [
    "#Clean dog breeds\n",
    "dog_df.loc[dog_df['animal_breed'].str.contains('PIT'), 'animal_breed'] = 'PIT BULL'\n",
    "dog_df.loc[dog_df['animal_breed'].str.contains('STAFF'), 'animal_breed'] = 'PIT BULL'\n",
    "\n",
    "dog_df.loc[dog_df['animal_breed'].str.contains('TERRIER'), 'animal_breed'] = 'TERRIER'\n",
    "dog_df.loc[dog_df['animal_breed'].str.contains('TERR'), 'animal_breed'] = 'TERRIER'\n",
    "dog_df.loc[dog_df['animal_breed'].str.contains('TER'), 'animal_breed'] = 'TERRIER'\n",
    "dog_df.loc[dog_df['animal_breed'].str.contains('WEST HIGH'), 'animal_breed'] = 'TERRIER'\n",
    "dog_df.loc[dog_df['animal_breed'].str.contains('SCHNAUZER'), 'animal_breed'] = 'TERRIER'\n",
    "\n",
    "\n",
    "dog_df.loc[dog_df['animal_breed'].str.contains('RETR'), 'animal_breed'] = 'RETRIEVER'\n",
    "dog_df.loc[dog_df['animal_breed'].str.contains('SHEPHERD'), 'animal_breed'] = 'SHEPHERD'\n",
    "dog_df.loc[dog_df['animal_breed'].str.contains('CORGI'), 'animal_breed'] = 'CORGI'\n",
    "\n",
    "dog_df.loc[dog_df['animal_breed'].str.contains('HOUND'), 'animal_breed'] = 'HOUND'\n",
    "dog_df.loc[dog_df['animal_breed'].str.contains('BEAGLE'), 'animal_breed'] = 'HOUND'\n",
    "dog_df.loc[dog_df['animal_breed'].str.contains('BLACK MOUTH'), 'animal_breed'] = 'HOUND'\n",
    "dog_df.loc[dog_df['animal_breed'].str.contains('DACHSHUND'), 'animal_breed'] = 'HOUND'\n",
    "dog_df.loc[dog_df['animal_breed'].str.contains('RIDGEBACK'), 'animal_breed'] = 'HOUND'\n",
    "\n",
    "dog_df.loc[dog_df['animal_breed'].str.contains('CHIHUAHUA'), 'animal_breed'] = 'CHIHUAHUA'"
   ]
  },
  {
   "cell_type": "code",
   "execution_count": 197,
   "metadata": {},
   "outputs": [],
   "source": [
    "#Select top breeds, other, and Corgis and Pugs for suck up points\n",
    "dog_breeds = ['PIT BULL', 'CHIHUAHUA', 'SHEPHERD', 'RETRIEVER', 'TERRIER', 'HOUND', 'CORGI', 'PUG']\n",
    "dog_df.loc[~dog_df[\"animal_breed\"].isin(dog_breeds), \"animal_breed\"] = \"MUTT\""
   ]
  },
  {
   "cell_type": "code",
   "execution_count": 198,
   "metadata": {},
   "outputs": [
    {
     "data": {
      "text/plain": [
       "PIT BULL     5213\n",
       "MUTT         4342\n",
       "SHEPHERD     2772\n",
       "RETRIEVER    2395\n",
       "CHIHUAHUA    2191\n",
       "TERRIER      1333\n",
       "HOUND         538\n",
       "PUG            57\n",
       "CORGI          49\n",
       "Name: animal_breed, dtype: int64"
      ]
     },
     "execution_count": 198,
     "metadata": {},
     "output_type": "execute_result"
    }
   ],
   "source": [
    "dog_df.animal_breed.value_counts()"
   ]
  },
  {
   "cell_type": "code",
   "execution_count": 199,
   "metadata": {},
   "outputs": [],
   "source": [
    "#Clean cat breeds\n",
    "cat_df.loc[cat_df['animal_breed'].str.contains('SIAMESE'), 'animal_breed'] = 'DOMESTIC SH'\n",
    "cat_df.loc[cat_df['animal_breed'].str.contains('RUSSIAN BLUE'), 'animal_breed'] = 'DOMESTIC SH'\n",
    "cat_df.loc[cat_df['animal_breed'].str.contains('BOMBAY'), 'animal_breed'] = 'DOMESTIC SH'\n",
    "cat_df.loc[cat_df['animal_breed'].str.contains('SAVANNAH'), 'animal_breed'] = 'DOMESTIC SH'\n",
    "cat_df.loc[cat_df['animal_breed'].str.contains('BURMESE'), 'animal_breed'] = 'DOMESTIC SH'\n",
    "cat_df.loc[cat_df['animal_breed'].str.contains('HAVANA BROWN'), 'animal_breed'] = 'DOMESTIC SH'\n",
    "cat_df.loc[cat_df['animal_breed'].str.contains('COLORPOINT'), 'animal_breed'] = 'DOMESTIC SH'\n",
    "cat_df.loc[cat_df['animal_breed'].str.contains('KORAT'), 'animal_breed'] = 'DOMESTIC SH'\n",
    "cat_df.loc[cat_df['animal_breed'].str.contains('JAPAN BOBTAIL'), 'animal_breed'] = 'DOMESTIC SH'\n",
    "cat_df.loc[cat_df['animal_breed'].str.contains('TONKINESE'), 'animal_breed'] = 'DOMESTIC SH'\n",
    "cat_df.loc[cat_df['animal_breed'].str.contains('SPHYNX'), 'animal_breed'] = 'DOMESTIC SH'\n",
    "cat_df.loc[cat_df['animal_breed'].str.contains('TONKINESE'), 'animal_breed'] = 'DOMESTIC SH'\n",
    "cat_df.loc[cat_df['animal_breed'].str.contains('CORNISH REX'), 'animal_breed'] = 'DOMESTIC SH'\n",
    "cat_df.loc[cat_df['animal_breed'].str.contains('OCICAT'), 'animal_breed'] = 'DOMESTIC SH'\n",
    "cat_df.loc[cat_df['animal_breed'].str.contains('TONKINESE'), 'animal_breed'] = 'DOMESTIC SH'\n",
    "cat_df.loc[cat_df['animal_breed'].str.contains('EGYPTIAN MAU'), 'animal_breed'] = 'DOMESTIC SH'\n",
    "cat_df.loc[cat_df['animal_breed'].str.contains('SH'), 'animal_breed'] = 'DOMESTIC SH'\n",
    "cat_df.loc[cat_df['animal_breed'].str.contains('ABYSSINIAN'), 'animal_breed'] = 'DOMESTIC MH'\n",
    "cat_df.loc[cat_df['animal_breed'].str.contains('CHARTREUX'), 'animal_breed'] = 'DOMESTIC MH'\n",
    "cat_df.loc[cat_df['animal_breed'].str.contains('BENGAL'), 'animal_breed'] = 'DOMESTIC MH'\n",
    "cat_df.loc[cat_df['animal_breed'].str.contains('RAGDOLL'), 'animal_breed'] = 'DOMESTIC MH'\n",
    "cat_df.loc[cat_df['animal_breed'].str.contains('BALINESE'), 'animal_breed'] = 'DOMESTIC MH'\n",
    "cat_df.loc[cat_df['animal_breed'].str.contains('MANX'), 'animal_breed'] = 'DOMESTIC MH'\n",
    "cat_df.loc[cat_df['animal_breed'].str.contains('SCOTTISH FOLD'), 'animal_breed'] = 'DOMESTIC MH'\n",
    "cat_df.loc[cat_df['animal_breed'].str.contains('SNOWSHOE'), 'animal_breed'] = 'DOMESTIC MH'\n",
    "cat_df.loc[cat_df['animal_breed'].str.contains('AMER WIREHAIR'), 'animal_breed'] = 'DOMESTIC MH'\n",
    "cat_df.loc[cat_df['animal_breed'].str.contains('SOMALI'), 'animal_breed'] = 'DOMESTIC MH'\n",
    "cat_df.loc[cat_df['animal_breed'].str.contains('MH'), 'animal_breed'] = 'DOMESTIC MH'\n",
    "cat_df.loc[cat_df['animal_breed'].str.contains('HIMALAYAN'), 'animal_breed'] = 'DOMESTIC LH'\n",
    "cat_df.loc[cat_df['animal_breed'].str.contains('MAINE COON'), 'animal_breed'] = 'DOMESTIC LH'\n",
    "cat_df.loc[cat_df['animal_breed'].str.contains('PERSIAN'), 'animal_breed'] = 'DOMESTIC LH'\n",
    "cat_df.loc[cat_df['animal_breed'].str.contains('NORWGN FOREST'), 'animal_breed'] = 'DOMESTIC LH'\n",
    "cat_df.loc[cat_df['animal_breed'].str.contains('ANGORA'), 'animal_breed'] = 'DOMESTIC LH'\n",
    "cat_df.loc[cat_df['animal_breed'].str.contains('TURKISH VAN'), 'animal_breed'] = 'DOMESTIC LH'\n",
    "cat_df.loc[cat_df['animal_breed'].str.contains('BIRMAN'), 'animal_breed'] = 'DOMESTIC LH'\n",
    "cat_df.loc[cat_df['animal_breed'].str.contains('LH'), 'animal_breed'] = 'DOMESTIC LH'"
   ]
  },
  {
   "cell_type": "code",
   "execution_count": 200,
   "metadata": {},
   "outputs": [
    {
     "data": {
      "text/plain": [
       "DOMESTIC SH    6394\n",
       "DOMESTIC MH     549\n",
       "DOMESTIC LH     115\n",
       "Name: animal_breed, dtype: int64"
      ]
     },
     "execution_count": 200,
     "metadata": {},
     "output_type": "execute_result"
    }
   ],
   "source": [
    "cat_df.animal_breed.value_counts()"
   ]
  },
  {
   "cell_type": "code",
   "execution_count": 201,
   "metadata": {},
   "outputs": [
    {
     "data": {
      "text/plain": [
       "<seaborn.axisgrid.FacetGrid at 0x7fe32243f1d0>"
      ]
     },
     "execution_count": 201,
     "metadata": {},
     "output_type": "execute_result"
    },
    {
     "data": {
      "image/png": "[encoded data removed]",
      "text/plain": [
       "<Figure size 720x720 with 1 Axes>"
      ]
     },
     "metadata": {
      "needs_background": "light"
     },
     "output_type": "display_data"
    }
   ],
   "source": [
    "sns.displot(cat_df, x='animal_breed', height=10)"
   ]
  },
  {
   "cell_type": "markdown",
   "metadata": {},
   "source": [
    "#### 3. Percentage of animals adopted or returned to owner (higher is better—fewer animals euthanized or died) \n",
    "\n",
    "33. Number of animals adopted \n",
    "34. Number of animals redeemed by owner\n",
    "39. Number of transfers/fosters \n",
    "41. Adoption rates \n",
    "43. Return to owner rates \n",
    "\n",
    "- visualize by dog and cat adoption and returned \n",
    "- need a status (adopted or returned) outcome type\n",
    "- need to calculate % groupby animal type and status and divide by ALL animals regardless of status type\n",
    "- use a pie chart and  \n",
    "\n",
    "i want to create a visualization that captures the percentage of animals adopted or return segmented by cats and dogs \n"
   ]
  },
  {
   "cell_type": "code",
   "execution_count": 202,
   "metadata": {
    "scrolled": false
   },
   "outputs": [
    {
     "data": {
      "text/plain": [
       "<seaborn.axisgrid.FacetGrid at 0x7fe31f661190>"
      ]
     },
     "execution_count": 202,
     "metadata": {},
     "output_type": "execute_result"
    },
    {
     "data": {
      "image/png": "[encoded data removed]",
      "text/plain": [
       "<Figure size 1530.88x1440 with 1 Axes>"
      ]
     },
     "metadata": {
      "needs_background": "light"
     },
     "output_type": "display_data"
    }
   ],
   "source": [
    "sns.displot(df, x='kennel_status', hue= 'animal_type', height=20)"
   ]
  },
  {
   "cell_type": "code",
   "execution_count": 203,
   "metadata": {},
   "outputs": [
    {
     "data": {
      "text/plain": [
       "<seaborn.axisgrid.FacetGrid at 0x7fe320509490>"
      ]
     },
     "execution_count": 203,
     "metadata": {},
     "output_type": "execute_result"
    },
    {
     "data": {
      "image/png": "[encoded data removed]",
      "text/plain": [
       "<Figure size 789.125x720 with 1 Axes>"
      ]
     },
     "metadata": {
      "needs_background": "light"
     },
     "output_type": "display_data"
    }
   ],
   "source": [
    "sns.displot(cat_df, x='outcome_type', hue= 'animal_type', height=10)"
   ]
  },
  {
   "cell_type": "code",
   "execution_count": 204,
   "metadata": {},
   "outputs": [
    {
     "data": {
      "text/plain": [
       "animal_type  outcome_type     \n",
       "BIRD         TRANSFER               55\n",
       "             EUTHANIZED             23\n",
       "             ADOPTION                6\n",
       "             RETURNED TO OWNER       4\n",
       "CAT          TRANSFER             3641\n",
       "             ADOPTION             2586\n",
       "             EUTHANIZED            678\n",
       "             RETURNED TO OWNER     153\n",
       "DOG          ADOPTION             7371\n",
       "             RETURNED TO OWNER    6325\n",
       "             TRANSFER             4053\n",
       "             EUTHANIZED           1141\n",
       "LIVESTOCK    TRANSFER                6\n",
       "             ADOPTION                2\n",
       "             EUTHANIZED              2\n",
       "             RETURNED TO OWNER       2\n",
       "WILDLIFE     EUTHANIZED            509\n",
       "             ADOPTION              107\n",
       "             TRANSFER               69\n",
       "             RETURNED TO OWNER      11\n",
       "Name: outcome_type, dtype: int64"
      ]
     },
     "execution_count": 204,
     "metadata": {},
     "output_type": "execute_result"
    }
   ],
   "source": [
    "df.groupby('animal_type').outcome_type.value_counts()"
   ]
  },
  {
   "cell_type": "code",
   "execution_count": 205,
   "metadata": {},
   "outputs": [
    {
     "data": {
      "text/plain": [
       "outcome_type       animal_type\n",
       "ADOPTION           DOG            7371\n",
       "                   CAT            2586\n",
       "                   WILDLIFE        107\n",
       "                   BIRD              6\n",
       "                   LIVESTOCK         2\n",
       "EUTHANIZED         DOG            1141\n",
       "                   CAT             678\n",
       "                   WILDLIFE        509\n",
       "                   BIRD             23\n",
       "                   LIVESTOCK         2\n",
       "RETURNED TO OWNER  DOG            6325\n",
       "                   CAT             153\n",
       "                   WILDLIFE         11\n",
       "                   BIRD              4\n",
       "                   LIVESTOCK         2\n",
       "TRANSFER           DOG            4053\n",
       "                   CAT            3641\n",
       "                   WILDLIFE         69\n",
       "                   BIRD             55\n",
       "                   LIVESTOCK         6\n",
       "Name: animal_type, dtype: int64"
      ]
     },
     "execution_count": 205,
     "metadata": {},
     "output_type": "execute_result"
    }
   ],
   "source": [
    "df.groupby('outcome_type').animal_type.value_counts()"
   ]
  },
  {
   "cell_type": "code",
   "execution_count": 206,
   "metadata": {},
   "outputs": [
    {
     "data": {
      "text/plain": [
       "chip_status     animal_type\n",
       "CHIP            DOG             7301\n",
       "                CAT             1366\n",
       "                WILDLIFE           6\n",
       "NO CHIP         DOG            10022\n",
       "                CAT             5076\n",
       "                WILDLIFE         230\n",
       "                BIRD              35\n",
       "                LIVESTOCK          7\n",
       "UNABLE TO SCAN  DOG             1567\n",
       "                CAT              616\n",
       "                WILDLIFE         460\n",
       "                BIRD              53\n",
       "                LIVESTOCK          5\n",
       "Name: animal_type, dtype: int64"
      ]
     },
     "execution_count": 206,
     "metadata": {},
     "output_type": "execute_result"
    }
   ],
   "source": [
    "df.groupby('chip_status').animal_type.value_counts()"
   ]
  },
  {
   "cell_type": "code",
   "execution_count": 207,
   "metadata": {},
   "outputs": [
    {
     "data": {
      "text/plain": [
       "animal_type  outcome_type     \n",
       "BIRD         TRANSFER               55\n",
       "             EUTHANIZED             23\n",
       "             ADOPTION                6\n",
       "             RETURNED TO OWNER       4\n",
       "CAT          TRANSFER             3641\n",
       "             ADOPTION             2586\n",
       "             EUTHANIZED            678\n",
       "             RETURNED TO OWNER     153\n",
       "DOG          ADOPTION             7371\n",
       "             RETURNED TO OWNER    6325\n",
       "             TRANSFER             4053\n",
       "             EUTHANIZED           1141\n",
       "LIVESTOCK    TRANSFER                6\n",
       "             ADOPTION                2\n",
       "             EUTHANIZED              2\n",
       "             RETURNED TO OWNER       2\n",
       "WILDLIFE     EUTHANIZED            509\n",
       "             ADOPTION              107\n",
       "             TRANSFER               69\n",
       "             RETURNED TO OWNER      11\n",
       "Name: outcome_type, dtype: int64"
      ]
     },
     "execution_count": 207,
     "metadata": {},
     "output_type": "execute_result"
    }
   ],
   "source": [
    "df.groupby('animal_type').outcome_type.value_counts()"
   ]
  },
  {
   "cell_type": "code",
   "execution_count": 208,
   "metadata": {},
   "outputs": [
    {
     "data": {
      "text/plain": [
       "ADOPTION             10072\n",
       "TRANSFER              7824\n",
       "RETURNED TO OWNER     6495\n",
       "EUTHANIZED            2353\n",
       "Name: outcome_type, dtype: int64"
      ]
     },
     "execution_count": 208,
     "metadata": {},
     "output_type": "execute_result"
    }
   ],
   "source": [
    "df.outcome_type.value_counts()"
   ]
  },
  {
   "cell_type": "code",
   "execution_count": 209,
   "metadata": {},
   "outputs": [
    {
     "data": {
      "text/plain": [
       "ADOPTION             7371\n",
       "RETURNED TO OWNER    6325\n",
       "TRANSFER             4053\n",
       "EUTHANIZED           1141\n",
       "Name: outcome_type, dtype: int64"
      ]
     },
     "execution_count": 209,
     "metadata": {},
     "output_type": "execute_result"
    }
   ],
   "source": [
    "dog_df.outcome_type.value_counts()"
   ]
  },
  {
   "cell_type": "code",
   "execution_count": 210,
   "metadata": {},
   "outputs": [
    {
     "data": {
      "text/plain": [
       "TRANSFER             3641\n",
       "ADOPTION             2586\n",
       "EUTHANIZED            678\n",
       "RETURNED TO OWNER     153\n",
       "Name: outcome_type, dtype: int64"
      ]
     },
     "execution_count": 210,
     "metadata": {},
     "output_type": "execute_result"
    }
   ],
   "source": [
    "cat_df.outcome_type.value_counts()"
   ]
  },
  {
   "cell_type": "code",
   "execution_count": 211,
   "metadata": {},
   "outputs": [
    {
     "data": {
      "text/html": [
       "<div>\n",
       "<style scoped>\n",
       "    .dataframe tbody tr th:only-of-type {\n",
       "        vertical-align: middle;\n",
       "    }\n",
       "\n",
       "    .dataframe tbody tr th {\n",
       "        vertical-align: top;\n",
       "    }\n",
       "\n",
       "    .dataframe thead th {\n",
       "        text-align: right;\n",
       "    }\n",
       "</style>\n",
       "<table border=\"1\" class=\"dataframe\">\n",
       "  <thead>\n",
       "    <tr style=\"text-align: right;\">\n",
       "      <th></th>\n",
       "      <th>animal_id</th>\n",
       "      <th>animal_type</th>\n",
       "      <th>animal_breed</th>\n",
       "      <th>kennel_number</th>\n",
       "      <th>kennel_status</th>\n",
       "      <th>intake_type</th>\n",
       "      <th>intake_subtype</th>\n",
       "      <th>reason</th>\n",
       "      <th>staff_id</th>\n",
       "      <th>intake_date</th>\n",
       "      <th>due_out</th>\n",
       "      <th>intake_condition</th>\n",
       "      <th>outcome_type</th>\n",
       "      <th>outcome_subtype</th>\n",
       "      <th>outcome_date</th>\n",
       "      <th>outcome_condition</th>\n",
       "      <th>chip_status</th>\n",
       "      <th>animal_origin</th>\n",
       "      <th>month</th>\n",
       "      <th>year</th>\n",
       "      <th>length_of_stay</th>\n",
       "      <th>est_length_of_stay</th>\n",
       "      <th>difference_in_stay</th>\n",
       "    </tr>\n",
       "  </thead>\n",
       "  <tbody>\n",
       "    <tr>\n",
       "      <th>0</th>\n",
       "      <td>A0144701</td>\n",
       "      <td>DOG</td>\n",
       "      <td>HAVANESE</td>\n",
       "      <td>VT 12</td>\n",
       "      <td>IMPOUNDED</td>\n",
       "      <td>OWNER SURRENDER</td>\n",
       "      <td>GENERAL</td>\n",
       "      <td>PERSNLISSU</td>\n",
       "      <td>CDM</td>\n",
       "      <td>2019-11-08</td>\n",
       "      <td>2019-11-14</td>\n",
       "      <td>APP SICK</td>\n",
       "      <td>RETURNED TO OWNER</td>\n",
       "      <td>WALK IN</td>\n",
       "      <td>2019-11-09</td>\n",
       "      <td>APP SICK</td>\n",
       "      <td>CHIP</td>\n",
       "      <td>OVER THE COUNTER</td>\n",
       "      <td>NOV.2019</td>\n",
       "      <td>FY2020</td>\n",
       "      <td>1 days</td>\n",
       "      <td>6 days</td>\n",
       "      <td>5 days</td>\n",
       "    </tr>\n",
       "    <tr>\n",
       "      <th>2</th>\n",
       "      <td>A0458972</td>\n",
       "      <td>DOG</td>\n",
       "      <td>CATAHOULA</td>\n",
       "      <td>RECEIVING</td>\n",
       "      <td>UNAVAILABLE</td>\n",
       "      <td>STRAY</td>\n",
       "      <td>AT LARGE</td>\n",
       "      <td>OTHER</td>\n",
       "      <td>MG1718</td>\n",
       "      <td>2019-10-03</td>\n",
       "      <td>2019-10-03</td>\n",
       "      <td>TREATABLE REHABILITABLE NON-CONTAGIOUS</td>\n",
       "      <td>RETURNED TO OWNER</td>\n",
       "      <td>FIELD</td>\n",
       "      <td>2019-10-03</td>\n",
       "      <td>TREATABLE REHABILITABLE NON-CONTAGIOUS</td>\n",
       "      <td>NO CHIP</td>\n",
       "      <td>FIELD</td>\n",
       "      <td>OCT.2019</td>\n",
       "      <td>FY2020</td>\n",
       "      <td>0 days</td>\n",
       "      <td>0 days</td>\n",
       "      <td>0 days</td>\n",
       "    </tr>\n",
       "    <tr>\n",
       "      <th>3</th>\n",
       "      <td>A0525642</td>\n",
       "      <td>DOG</td>\n",
       "      <td>GERM SHEPHERD</td>\n",
       "      <td>INJD 001</td>\n",
       "      <td>IMPOUNDED</td>\n",
       "      <td>OWNER SURRENDER</td>\n",
       "      <td>GENERAL</td>\n",
       "      <td>OTHER</td>\n",
       "      <td>RA 1549</td>\n",
       "      <td>2019-10-11</td>\n",
       "      <td>2019-10-17</td>\n",
       "      <td>TREATABLE REHABILITABLE NON-CONTAGIOUS</td>\n",
       "      <td>TRANSFER</td>\n",
       "      <td>MEDICAL-CONTAGIOUS</td>\n",
       "      <td>2019-10-15</td>\n",
       "      <td>TREATABLE REHABILITABLE NON-CONTAGIOUS</td>\n",
       "      <td>CHIP</td>\n",
       "      <td>FIELD</td>\n",
       "      <td>OCT.2019</td>\n",
       "      <td>FY2020</td>\n",
       "      <td>4 days</td>\n",
       "      <td>6 days</td>\n",
       "      <td>2 days</td>\n",
       "    </tr>\n",
       "    <tr>\n",
       "      <th>4</th>\n",
       "      <td>A0565586</td>\n",
       "      <td>DOG</td>\n",
       "      <td>SILKY TERRIER</td>\n",
       "      <td>LFD 119</td>\n",
       "      <td>UNAVAILABLE</td>\n",
       "      <td>STRAY</td>\n",
       "      <td>AT LARGE</td>\n",
       "      <td>OTHRINTAKS</td>\n",
       "      <td>JR</td>\n",
       "      <td>2019-11-08</td>\n",
       "      <td>2019-11-14</td>\n",
       "      <td>APP WNL</td>\n",
       "      <td>RETURNED TO OWNER</td>\n",
       "      <td>WALK IN</td>\n",
       "      <td>2019-11-09</td>\n",
       "      <td>APP WNL</td>\n",
       "      <td>CHIP</td>\n",
       "      <td>OVER THE COUNTER</td>\n",
       "      <td>NOV.2019</td>\n",
       "      <td>FY2020</td>\n",
       "      <td>1 days</td>\n",
       "      <td>6 days</td>\n",
       "      <td>5 days</td>\n",
       "    </tr>\n",
       "    <tr>\n",
       "      <th>6</th>\n",
       "      <td>A0578275</td>\n",
       "      <td>DOG</td>\n",
       "      <td>BICHON FRISE</td>\n",
       "      <td>LFD 081</td>\n",
       "      <td>UNAVAILABLE</td>\n",
       "      <td>OWNER SURRENDER</td>\n",
       "      <td>GENERAL</td>\n",
       "      <td>MEDICAL</td>\n",
       "      <td>CDM</td>\n",
       "      <td>2019-11-01</td>\n",
       "      <td>2019-11-01</td>\n",
       "      <td>TREATABLE REHABILITABLE NON-CONTAGIOUS</td>\n",
       "      <td>TRANSFER</td>\n",
       "      <td>MEDICAL-CONTAGIOUS</td>\n",
       "      <td>2019-11-02</td>\n",
       "      <td>TREATABLE REHABILITABLE NON-CONTAGIOUS</td>\n",
       "      <td>CHIP</td>\n",
       "      <td>OVER THE COUNTER</td>\n",
       "      <td>NOV.2019</td>\n",
       "      <td>FY2020</td>\n",
       "      <td>1 days</td>\n",
       "      <td>0 days</td>\n",
       "      <td>-1 days</td>\n",
       "    </tr>\n",
       "  </tbody>\n",
       "</table>\n",
       "</div>"
      ],
      "text/plain": [
       "  animal_id animal_type   animal_breed kennel_number kennel_status  \\\n",
       "0  A0144701         DOG       HAVANESE         VT 12     IMPOUNDED   \n",
       "2  A0458972         DOG      CATAHOULA     RECEIVING   UNAVAILABLE   \n",
       "3  A0525642         DOG  GERM SHEPHERD      INJD 001     IMPOUNDED   \n",
       "4  A0565586         DOG  SILKY TERRIER       LFD 119   UNAVAILABLE   \n",
       "6  A0578275         DOG   BICHON FRISE       LFD 081   UNAVAILABLE   \n",
       "\n",
       "       intake_type intake_subtype      reason staff_id intake_date    due_out  \\\n",
       "0  OWNER SURRENDER        GENERAL  PERSNLISSU      CDM  2019-11-08 2019-11-14   \n",
       "2            STRAY       AT LARGE       OTHER   MG1718  2019-10-03 2019-10-03   \n",
       "3  OWNER SURRENDER        GENERAL       OTHER  RA 1549  2019-10-11 2019-10-17   \n",
       "4            STRAY       AT LARGE  OTHRINTAKS       JR  2019-11-08 2019-11-14   \n",
       "6  OWNER SURRENDER        GENERAL     MEDICAL      CDM  2019-11-01 2019-11-01   \n",
       "\n",
       "                         intake_condition       outcome_type  \\\n",
       "0                                APP SICK  RETURNED TO OWNER   \n",
       "2  TREATABLE REHABILITABLE NON-CONTAGIOUS  RETURNED TO OWNER   \n",
       "3  TREATABLE REHABILITABLE NON-CONTAGIOUS           TRANSFER   \n",
       "4                                 APP WNL  RETURNED TO OWNER   \n",
       "6  TREATABLE REHABILITABLE NON-CONTAGIOUS           TRANSFER   \n",
       "\n",
       "      outcome_subtype outcome_date                       outcome_condition  \\\n",
       "0             WALK IN   2019-11-09                                APP SICK   \n",
       "2               FIELD   2019-10-03  TREATABLE REHABILITABLE NON-CONTAGIOUS   \n",
       "3  MEDICAL-CONTAGIOUS   2019-10-15  TREATABLE REHABILITABLE NON-CONTAGIOUS   \n",
       "4             WALK IN   2019-11-09                                 APP WNL   \n",
       "6  MEDICAL-CONTAGIOUS   2019-11-02  TREATABLE REHABILITABLE NON-CONTAGIOUS   \n",
       "\n",
       "  chip_status     animal_origin     month    year length_of_stay  \\\n",
       "0        CHIP  OVER THE COUNTER  NOV.2019  FY2020         1 days   \n",
       "2     NO CHIP             FIELD  OCT.2019  FY2020         0 days   \n",
       "3        CHIP             FIELD  OCT.2019  FY2020         4 days   \n",
       "4        CHIP  OVER THE COUNTER  NOV.2019  FY2020         1 days   \n",
       "6        CHIP  OVER THE COUNTER  NOV.2019  FY2020         1 days   \n",
       "\n",
       "  est_length_of_stay difference_in_stay  \n",
       "0             6 days             5 days  \n",
       "2             0 days             0 days  \n",
       "3             6 days             2 days  \n",
       "4             6 days             5 days  \n",
       "6             0 days            -1 days  "
      ]
     },
     "execution_count": 211,
     "metadata": {},
     "output_type": "execute_result"
    }
   ],
   "source": [
    "df.head()"
   ]
  },
  {
   "cell_type": "code",
   "execution_count": 212,
   "metadata": {},
   "outputs": [
    {
     "data": {
      "text/plain": [
       "<seaborn.axisgrid.FacetGrid at 0x7fe322745290>"
      ]
     },
     "execution_count": 212,
     "metadata": {},
     "output_type": "execute_result"
    },
    {
     "data": {
      "image/png": "[encoded data removed]",
      "text/plain": [
       "<Figure size 720x720 with 1 Axes>"
      ]
     },
     "metadata": {
      "needs_background": "light"
     },
     "output_type": "display_data"
    }
   ],
   "source": [
    "sns.displot(df, x='chip_status', height = 10)"
   ]
  },
  {
   "cell_type": "code",
   "execution_count": 213,
   "metadata": {},
   "outputs": [
    {
     "data": {
      "text/plain": [
       "NO CHIP           5076\n",
       "CHIP              1366\n",
       "UNABLE TO SCAN     616\n",
       "Name: chip_status, dtype: int64"
      ]
     },
     "execution_count": 213,
     "metadata": {},
     "output_type": "execute_result"
    }
   ],
   "source": [
    "cat_df.chip_status.value_counts()"
   ]
  },
  {
   "cell_type": "code",
   "execution_count": 229,
   "metadata": {},
   "outputs": [
    {
     "name": "stdout",
     "output_type": "stream",
     "text": [
      "<class 'pandas.core.frame.DataFrame'>\n",
      "Int64Index: 26744 entries, 0 to 31917\n",
      "Data columns (total 23 columns):\n",
      " #   Column              Non-Null Count  Dtype          \n",
      "---  ------              --------------  -----          \n",
      " 0   animal_id           26744 non-null  object         \n",
      " 1   animal_type         26744 non-null  object         \n",
      " 2   animal_breed        26744 non-null  object         \n",
      " 3   kennel_number       26744 non-null  object         \n",
      " 4   kennel_status       26744 non-null  object         \n",
      " 5   intake_type         26744 non-null  object         \n",
      " 6   intake_subtype      26744 non-null  object         \n",
      " 7   reason              26744 non-null  object         \n",
      " 8   staff_id            26744 non-null  object         \n",
      " 9   intake_date         26744 non-null  datetime64[ns] \n",
      " 10  due_out             26744 non-null  datetime64[ns] \n",
      " 11  intake_condition    26744 non-null  object         \n",
      " 12  outcome_type        26744 non-null  object         \n",
      " 13  outcome_subtype     26744 non-null  object         \n",
      " 14  outcome_date        26744 non-null  datetime64[ns] \n",
      " 15  outcome_condition   26744 non-null  object         \n",
      " 16  chip_status         26744 non-null  object         \n",
      " 17  animal_origin       26744 non-null  object         \n",
      " 18  month               26744 non-null  object         \n",
      " 19  year                26744 non-null  object         \n",
      " 20  length_of_stay      26744 non-null  timedelta64[ns]\n",
      " 21  est_length_of_stay  26744 non-null  timedelta64[ns]\n",
      " 22  difference_in_stay  26744 non-null  timedelta64[ns]\n",
      "dtypes: datetime64[ns](3), object(17), timedelta64[ns](3)\n",
      "memory usage: 4.9+ MB\n"
     ]
    }
   ],
   "source": [
    "df.info()"
   ]
  },
  {
   "cell_type": "code",
   "execution_count": 230,
   "metadata": {},
   "outputs": [
    {
     "data": {
      "text/plain": [
       "ADOPTION             10072\n",
       "TRANSFER              7824\n",
       "RETURNED TO OWNER     6495\n",
       "EUTHANIZED            2353\n",
       "Name: outcome_type, dtype: int64"
      ]
     },
     "execution_count": 230,
     "metadata": {},
     "output_type": "execute_result"
    }
   ],
   "source": [
    "df.outcome_type.value_counts()"
   ]
  },
  {
   "cell_type": "code",
   "execution_count": null,
   "metadata": {},
   "outputs": [],
   "source": []
  },
  {
   "cell_type": "code",
   "execution_count": null,
   "metadata": {},
   "outputs": [],
   "source": []
  }
 ],
 "metadata": {
  "kernelspec": {
   "display_name": "Python 3",
   "language": "python",
   "name": "python3"
  },
  "language_info": {
   "codemirror_mode": {
    "name": "ipython",
    "version": 3
   },
   "file_extension": ".py",
   "mimetype": "text/x-python",
   "name": "python",
   "nbconvert_exporter": "python",
   "pygments_lexer": "ipython3",
   "version": "3.7.6"
  },
  "toc": {
   "base_numbering": 1,
   "nav_menu": {},
   "number_sections": true,
   "sideBar": true,
   "skip_h1_title": false,
   "title_cell": "Table of Contents",
   "title_sidebar": "Contents",
   "toc_cell": false,
   "toc_position": {},
   "toc_section_display": true,
   "toc_window_display": false
  }
 },
 "nbformat": 4,
 "nbformat_minor": 4
}
